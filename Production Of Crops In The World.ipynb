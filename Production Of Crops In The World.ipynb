{
 "cells": [
  {
   "cell_type": "code",
   "execution_count": 1,
   "metadata": {},
   "outputs": [],
   "source": [
    "import pandas as pd \n",
    "import csv\n",
    "import matplotlib.pyplot as plt\n",
    "import numpy as np"
   ]
  },
  {
   "cell_type": "code",
   "execution_count": 2,
   "metadata": {},
   "outputs": [
    {
     "data": {
      "text/html": [
       "<div>\n",
       "<style scoped>\n",
       "    .dataframe tbody tr th:only-of-type {\n",
       "        vertical-align: middle;\n",
       "    }\n",
       "\n",
       "    .dataframe tbody tr th {\n",
       "        vertical-align: top;\n",
       "    }\n",
       "\n",
       "    .dataframe thead th {\n",
       "        text-align: right;\n",
       "    }\n",
       "</style>\n",
       "<table border=\"1\" class=\"dataframe\">\n",
       "  <thead>\n",
       "    <tr style=\"text-align: right;\">\n",
       "      <th></th>\n",
       "      <th>Area Code</th>\n",
       "      <th>Item Code</th>\n",
       "      <th>Element Code</th>\n",
       "      <th>Y1961</th>\n",
       "      <th>Y1962</th>\n",
       "      <th>Y1963</th>\n",
       "      <th>Y1964</th>\n",
       "      <th>Y1965</th>\n",
       "      <th>Y1966</th>\n",
       "      <th>Y1967</th>\n",
       "      <th>...</th>\n",
       "      <th>Y2009</th>\n",
       "      <th>Y2010</th>\n",
       "      <th>Y2011</th>\n",
       "      <th>Y2012</th>\n",
       "      <th>Y2013</th>\n",
       "      <th>Y2014</th>\n",
       "      <th>Y2015</th>\n",
       "      <th>Y2016</th>\n",
       "      <th>Y2017</th>\n",
       "      <th>Y2018</th>\n",
       "    </tr>\n",
       "  </thead>\n",
       "  <tbody>\n",
       "    <tr>\n",
       "      <td>count</td>\n",
       "      <td>51154.000000</td>\n",
       "      <td>51154.000000</td>\n",
       "      <td>51154.000000</td>\n",
       "      <td>3.452000e+04</td>\n",
       "      <td>3.455000e+04</td>\n",
       "      <td>3.454800e+04</td>\n",
       "      <td>3.457500e+04</td>\n",
       "      <td>3.456600e+04</td>\n",
       "      <td>3.472000e+04</td>\n",
       "      <td>3.475000e+04</td>\n",
       "      <td>...</td>\n",
       "      <td>4.717700e+04</td>\n",
       "      <td>4.726100e+04</td>\n",
       "      <td>4.727700e+04</td>\n",
       "      <td>4.736500e+04</td>\n",
       "      <td>4.737000e+04</td>\n",
       "      <td>4.740200e+04</td>\n",
       "      <td>4.562500e+04</td>\n",
       "      <td>4.564300e+04</td>\n",
       "      <td>4.566000e+04</td>\n",
       "      <td>4.568000e+04</td>\n",
       "    </tr>\n",
       "    <tr>\n",
       "      <td>mean</td>\n",
       "      <td>1427.513039</td>\n",
       "      <td>617.922372</td>\n",
       "      <td>5414.885854</td>\n",
       "      <td>1.241556e+06</td>\n",
       "      <td>1.273516e+06</td>\n",
       "      <td>1.294865e+06</td>\n",
       "      <td>1.336582e+06</td>\n",
       "      <td>1.347031e+06</td>\n",
       "      <td>1.386211e+06</td>\n",
       "      <td>1.429417e+06</td>\n",
       "      <td>...</td>\n",
       "      <td>2.172590e+06</td>\n",
       "      <td>2.194795e+06</td>\n",
       "      <td>2.290107e+06</td>\n",
       "      <td>2.300662e+06</td>\n",
       "      <td>2.419099e+06</td>\n",
       "      <td>2.469339e+06</td>\n",
       "      <td>2.498108e+06</td>\n",
       "      <td>2.535170e+06</td>\n",
       "      <td>2.585510e+06</td>\n",
       "      <td>2.576907e+06</td>\n",
       "    </tr>\n",
       "    <tr>\n",
       "      <td>std</td>\n",
       "      <td>2265.711360</td>\n",
       "      <td>547.644831</td>\n",
       "      <td>81.641256</td>\n",
       "      <td>1.300257e+07</td>\n",
       "      <td>1.335321e+07</td>\n",
       "      <td>1.354884e+07</td>\n",
       "      <td>1.412321e+07</td>\n",
       "      <td>1.422320e+07</td>\n",
       "      <td>1.490244e+07</td>\n",
       "      <td>1.537959e+07</td>\n",
       "      <td>...</td>\n",
       "      <td>2.811548e+07</td>\n",
       "      <td>2.821621e+07</td>\n",
       "      <td>2.951588e+07</td>\n",
       "      <td>2.951175e+07</td>\n",
       "      <td>3.145969e+07</td>\n",
       "      <td>3.190418e+07</td>\n",
       "      <td>3.290140e+07</td>\n",
       "      <td>3.371872e+07</td>\n",
       "      <td>3.426555e+07</td>\n",
       "      <td>3.402281e+07</td>\n",
       "    </tr>\n",
       "    <tr>\n",
       "      <td>min</td>\n",
       "      <td>1.000000</td>\n",
       "      <td>15.000000</td>\n",
       "      <td>5312.000000</td>\n",
       "      <td>0.000000e+00</td>\n",
       "      <td>0.000000e+00</td>\n",
       "      <td>0.000000e+00</td>\n",
       "      <td>0.000000e+00</td>\n",
       "      <td>0.000000e+00</td>\n",
       "      <td>0.000000e+00</td>\n",
       "      <td>0.000000e+00</td>\n",
       "      <td>...</td>\n",
       "      <td>0.000000e+00</td>\n",
       "      <td>0.000000e+00</td>\n",
       "      <td>0.000000e+00</td>\n",
       "      <td>0.000000e+00</td>\n",
       "      <td>0.000000e+00</td>\n",
       "      <td>0.000000e+00</td>\n",
       "      <td>0.000000e+00</td>\n",
       "      <td>0.000000e+00</td>\n",
       "      <td>0.000000e+00</td>\n",
       "      <td>0.000000e+00</td>\n",
       "    </tr>\n",
       "    <tr>\n",
       "      <td>25%</td>\n",
       "      <td>91.000000</td>\n",
       "      <td>242.000000</td>\n",
       "      <td>5312.000000</td>\n",
       "      <td>4.299500e+03</td>\n",
       "      <td>4.495750e+03</td>\n",
       "      <td>4.563750e+03</td>\n",
       "      <td>4.680000e+03</td>\n",
       "      <td>4.792750e+03</td>\n",
       "      <td>4.750750e+03</td>\n",
       "      <td>4.889000e+03</td>\n",
       "      <td>...</td>\n",
       "      <td>4.511000e+03</td>\n",
       "      <td>4.507000e+03</td>\n",
       "      <td>4.661000e+03</td>\n",
       "      <td>4.651000e+03</td>\n",
       "      <td>4.697000e+03</td>\n",
       "      <td>4.689250e+03</td>\n",
       "      <td>4.906000e+03</td>\n",
       "      <td>4.913000e+03</td>\n",
       "      <td>4.930500e+03</td>\n",
       "      <td>4.943500e+03</td>\n",
       "    </tr>\n",
       "    <tr>\n",
       "      <td>50%</td>\n",
       "      <td>173.000000</td>\n",
       "      <td>449.000000</td>\n",
       "      <td>5419.000000</td>\n",
       "      <td>2.230000e+04</td>\n",
       "      <td>2.281550e+04</td>\n",
       "      <td>2.347250e+04</td>\n",
       "      <td>2.420000e+04</td>\n",
       "      <td>2.436200e+04</td>\n",
       "      <td>2.460000e+04</td>\n",
       "      <td>2.500000e+04</td>\n",
       "      <td>...</td>\n",
       "      <td>3.000000e+04</td>\n",
       "      <td>2.983600e+04</td>\n",
       "      <td>3.057300e+04</td>\n",
       "      <td>3.072300e+04</td>\n",
       "      <td>3.143700e+04</td>\n",
       "      <td>3.171150e+04</td>\n",
       "      <td>3.286500e+04</td>\n",
       "      <td>3.296400e+04</td>\n",
       "      <td>3.313050e+04</td>\n",
       "      <td>3.289550e+04</td>\n",
       "    </tr>\n",
       "    <tr>\n",
       "      <td>75%</td>\n",
       "      <td>351.000000</td>\n",
       "      <td>667.000000</td>\n",
       "      <td>5510.000000</td>\n",
       "      <td>1.152900e+05</td>\n",
       "      <td>1.176312e+05</td>\n",
       "      <td>1.202735e+05</td>\n",
       "      <td>1.234050e+05</td>\n",
       "      <td>1.250000e+05</td>\n",
       "      <td>1.265500e+05</td>\n",
       "      <td>1.288650e+05</td>\n",
       "      <td>...</td>\n",
       "      <td>1.600000e+05</td>\n",
       "      <td>1.601250e+05</td>\n",
       "      <td>1.642250e+05</td>\n",
       "      <td>1.654250e+05</td>\n",
       "      <td>1.669462e+05</td>\n",
       "      <td>1.685845e+05</td>\n",
       "      <td>1.696090e+05</td>\n",
       "      <td>1.696220e+05</td>\n",
       "      <td>1.716110e+05</td>\n",
       "      <td>1.743828e+05</td>\n",
       "    </tr>\n",
       "    <tr>\n",
       "      <td>max</td>\n",
       "      <td>5817.000000</td>\n",
       "      <td>1841.000000</td>\n",
       "      <td>5510.000000</td>\n",
       "      <td>8.768749e+08</td>\n",
       "      <td>9.333733e+08</td>\n",
       "      <td>9.493461e+08</td>\n",
       "      <td>1.001214e+09</td>\n",
       "      <td>9.985932e+08</td>\n",
       "      <td>1.078340e+09</td>\n",
       "      <td>1.124081e+09</td>\n",
       "      <td>...</td>\n",
       "      <td>2.491796e+09</td>\n",
       "      <td>2.467415e+09</td>\n",
       "      <td>2.588162e+09</td>\n",
       "      <td>2.564337e+09</td>\n",
       "      <td>2.769038e+09</td>\n",
       "      <td>2.820447e+09</td>\n",
       "      <td>2.849841e+09</td>\n",
       "      <td>2.938515e+09</td>\n",
       "      <td>3.020299e+09</td>\n",
       "      <td>2.962868e+09</td>\n",
       "    </tr>\n",
       "  </tbody>\n",
       "</table>\n",
       "<p>8 rows × 61 columns</p>\n",
       "</div>"
      ],
      "text/plain": [
       "          Area Code     Item Code  Element Code         Y1961         Y1962  \\\n",
       "count  51154.000000  51154.000000  51154.000000  3.452000e+04  3.455000e+04   \n",
       "mean    1427.513039    617.922372   5414.885854  1.241556e+06  1.273516e+06   \n",
       "std     2265.711360    547.644831     81.641256  1.300257e+07  1.335321e+07   \n",
       "min        1.000000     15.000000   5312.000000  0.000000e+00  0.000000e+00   \n",
       "25%       91.000000    242.000000   5312.000000  4.299500e+03  4.495750e+03   \n",
       "50%      173.000000    449.000000   5419.000000  2.230000e+04  2.281550e+04   \n",
       "75%      351.000000    667.000000   5510.000000  1.152900e+05  1.176312e+05   \n",
       "max     5817.000000   1841.000000   5510.000000  8.768749e+08  9.333733e+08   \n",
       "\n",
       "              Y1963         Y1964         Y1965         Y1966         Y1967  \\\n",
       "count  3.454800e+04  3.457500e+04  3.456600e+04  3.472000e+04  3.475000e+04   \n",
       "mean   1.294865e+06  1.336582e+06  1.347031e+06  1.386211e+06  1.429417e+06   \n",
       "std    1.354884e+07  1.412321e+07  1.422320e+07  1.490244e+07  1.537959e+07   \n",
       "min    0.000000e+00  0.000000e+00  0.000000e+00  0.000000e+00  0.000000e+00   \n",
       "25%    4.563750e+03  4.680000e+03  4.792750e+03  4.750750e+03  4.889000e+03   \n",
       "50%    2.347250e+04  2.420000e+04  2.436200e+04  2.460000e+04  2.500000e+04   \n",
       "75%    1.202735e+05  1.234050e+05  1.250000e+05  1.265500e+05  1.288650e+05   \n",
       "max    9.493461e+08  1.001214e+09  9.985932e+08  1.078340e+09  1.124081e+09   \n",
       "\n",
       "       ...         Y2009         Y2010         Y2011         Y2012  \\\n",
       "count  ...  4.717700e+04  4.726100e+04  4.727700e+04  4.736500e+04   \n",
       "mean   ...  2.172590e+06  2.194795e+06  2.290107e+06  2.300662e+06   \n",
       "std    ...  2.811548e+07  2.821621e+07  2.951588e+07  2.951175e+07   \n",
       "min    ...  0.000000e+00  0.000000e+00  0.000000e+00  0.000000e+00   \n",
       "25%    ...  4.511000e+03  4.507000e+03  4.661000e+03  4.651000e+03   \n",
       "50%    ...  3.000000e+04  2.983600e+04  3.057300e+04  3.072300e+04   \n",
       "75%    ...  1.600000e+05  1.601250e+05  1.642250e+05  1.654250e+05   \n",
       "max    ...  2.491796e+09  2.467415e+09  2.588162e+09  2.564337e+09   \n",
       "\n",
       "              Y2013         Y2014         Y2015         Y2016         Y2017  \\\n",
       "count  4.737000e+04  4.740200e+04  4.562500e+04  4.564300e+04  4.566000e+04   \n",
       "mean   2.419099e+06  2.469339e+06  2.498108e+06  2.535170e+06  2.585510e+06   \n",
       "std    3.145969e+07  3.190418e+07  3.290140e+07  3.371872e+07  3.426555e+07   \n",
       "min    0.000000e+00  0.000000e+00  0.000000e+00  0.000000e+00  0.000000e+00   \n",
       "25%    4.697000e+03  4.689250e+03  4.906000e+03  4.913000e+03  4.930500e+03   \n",
       "50%    3.143700e+04  3.171150e+04  3.286500e+04  3.296400e+04  3.313050e+04   \n",
       "75%    1.669462e+05  1.685845e+05  1.696090e+05  1.696220e+05  1.716110e+05   \n",
       "max    2.769038e+09  2.820447e+09  2.849841e+09  2.938515e+09  3.020299e+09   \n",
       "\n",
       "              Y2018  \n",
       "count  4.568000e+04  \n",
       "mean   2.576907e+06  \n",
       "std    3.402281e+07  \n",
       "min    0.000000e+00  \n",
       "25%    4.943500e+03  \n",
       "50%    3.289550e+04  \n",
       "75%    1.743828e+05  \n",
       "max    2.962868e+09  \n",
       "\n",
       "[8 rows x 61 columns]"
      ]
     },
     "execution_count": 2,
     "metadata": {},
     "output_type": "execute_result"
    }
   ],
   "source": [
    "cpw = pd.read_csv('crops_production.csv')\n",
    "cpw.describe()"
   ]
  },
  {
   "cell_type": "code",
   "execution_count": 3,
   "metadata": {},
   "outputs": [
    {
     "data": {
      "text/plain": [
       "Index(['Area Code', 'Area', 'Item Code', 'Item', 'Element Code', 'Element',\n",
       "       'Unit', 'Y1961', 'Y1961F', 'Y1962',\n",
       "       ...\n",
       "       'Y2014', 'Y2014F', 'Y2015', 'Y2015F', 'Y2016', 'Y2016F', 'Y2017',\n",
       "       'Y2017F', 'Y2018', 'Y2018F'],\n",
       "      dtype='object', length=123)"
      ]
     },
     "execution_count": 3,
     "metadata": {},
     "output_type": "execute_result"
    }
   ],
   "source": [
    "cpw.columns"
   ]
  },
  {
   "cell_type": "code",
   "execution_count": 4,
   "metadata": {},
   "outputs": [
    {
     "data": {
      "text/html": [
       "<div>\n",
       "<style scoped>\n",
       "    .dataframe tbody tr th:only-of-type {\n",
       "        vertical-align: middle;\n",
       "    }\n",
       "\n",
       "    .dataframe tbody tr th {\n",
       "        vertical-align: top;\n",
       "    }\n",
       "\n",
       "    .dataframe thead th {\n",
       "        text-align: right;\n",
       "    }\n",
       "</style>\n",
       "<table border=\"1\" class=\"dataframe\">\n",
       "  <thead>\n",
       "    <tr style=\"text-align: right;\">\n",
       "      <th></th>\n",
       "      <th>Area Code</th>\n",
       "      <th>Area</th>\n",
       "      <th>Item</th>\n",
       "      <th>Element</th>\n",
       "      <th>Unit</th>\n",
       "      <th>Y2018</th>\n",
       "    </tr>\n",
       "  </thead>\n",
       "  <tbody>\n",
       "    <tr>\n",
       "      <td>0</td>\n",
       "      <td>2</td>\n",
       "      <td>Afghanistan</td>\n",
       "      <td>Almonds, with shell</td>\n",
       "      <td>Area harvested</td>\n",
       "      <td>ha</td>\n",
       "      <td>20053.0</td>\n",
       "    </tr>\n",
       "    <tr>\n",
       "      <td>1</td>\n",
       "      <td>2</td>\n",
       "      <td>Afghanistan</td>\n",
       "      <td>Almonds, with shell</td>\n",
       "      <td>Yield</td>\n",
       "      <td>hg/ha</td>\n",
       "      <td>17161.0</td>\n",
       "    </tr>\n",
       "    <tr>\n",
       "      <td>2</td>\n",
       "      <td>2</td>\n",
       "      <td>Afghanistan</td>\n",
       "      <td>Almonds, with shell</td>\n",
       "      <td>Production</td>\n",
       "      <td>tonnes</td>\n",
       "      <td>34413.0</td>\n",
       "    </tr>\n",
       "    <tr>\n",
       "      <td>3</td>\n",
       "      <td>2</td>\n",
       "      <td>Afghanistan</td>\n",
       "      <td>Anise, badian, fennel, coriander</td>\n",
       "      <td>Area harvested</td>\n",
       "      <td>ha</td>\n",
       "      <td>25785.0</td>\n",
       "    </tr>\n",
       "  </tbody>\n",
       "</table>\n",
       "</div>"
      ],
      "text/plain": [
       "   Area Code         Area                              Item         Element  \\\n",
       "0          2  Afghanistan               Almonds, with shell  Area harvested   \n",
       "1          2  Afghanistan               Almonds, with shell           Yield   \n",
       "2          2  Afghanistan               Almonds, with shell      Production   \n",
       "3          2  Afghanistan  Anise, badian, fennel, coriander  Area harvested   \n",
       "\n",
       "     Unit    Y2018  \n",
       "0      ha  20053.0  \n",
       "1   hg/ha  17161.0  \n",
       "2  tonnes  34413.0  \n",
       "3      ha  25785.0  "
      ]
     },
     "execution_count": 4,
     "metadata": {},
     "output_type": "execute_result"
    }
   ],
   "source": [
    "cpw[:4][['Area Code', 'Area', 'Item', 'Element', 'Unit', 'Y2018']]\n"
   ]
  },
  {
   "cell_type": "code",
   "execution_count": 5,
   "metadata": {},
   "outputs": [
    {
     "data": {
      "text/plain": [
       "<matplotlib.axes._subplots.AxesSubplot at 0x9146988>"
      ]
     },
     "execution_count": 5,
     "metadata": {},
     "output_type": "execute_result"
    },
    {
     "data": {
      "image/png": "[encoded data removed]",
      "text/plain": [
       "<Figure size 1800x720 with 1 Axes>"
      ]
     },
     "metadata": {
      "needs_background": "light"
     },
     "output_type": "display_data"
    }
   ],
   "source": [
    "cpw['Y2018'].plot(figsize=(25,10))    "
   ]
  },
  {
   "cell_type": "code",
   "execution_count": 6,
   "metadata": {},
   "outputs": [
    {
     "data": {
      "text/plain": [
       "<matplotlib.axes._subplots.AxesSubplot at 0x98c3508>"
      ]
     },
     "execution_count": 6,
     "metadata": {},
     "output_type": "execute_result"
    },
    {
     "data": {
      "image/png": "[encoded data removed]",
      "text/plain": [
       "<Figure size 1800x720 with 1 Axes>"
      ]
     },
     "metadata": {
      "needs_background": "light"
     },
     "output_type": "display_data"
    }
   ],
   "source": [
    "cpw['Y2018'].plot(figsize=(25,10))"
   ]
  },
  {
   "cell_type": "code",
   "execution_count": 7,
   "metadata": {},
   "outputs": [
    {
     "data": {
      "text/plain": [
       "<matplotlib.axes._subplots.AxesSubplot at 0x93b6688>"
      ]
     },
     "execution_count": 7,
     "metadata": {},
     "output_type": "execute_result"
    },
    {
     "data": {
      "image/png": "[encoded data removed]",
      "text/plain": [
       "<Figure size 1440x1080 with 1 Axes>"
      ]
     },
     "metadata": {
      "needs_background": "light"
     },
     "output_type": "display_data"
    }
   ],
   "source": [
    "cpw['Y2018'][:30000].plot(figsize= (20,15))"
   ]
  },
  {
   "cell_type": "code",
   "execution_count": 8,
   "metadata": {},
   "outputs": [
    {
     "data": {
      "text/plain": [
       "<matplotlib.axes._subplots.AxesSubplot at 0x975c708>"
      ]
     },
     "execution_count": 8,
     "metadata": {},
     "output_type": "execute_result"
    },
    {
     "data": {
      "image/png": "[encoded data removed]",
      "text/plain": [
       "<Figure size 1440x720 with 1 Axes>"
      ]
     },
     "metadata": {
      "needs_background": "light"
     },
     "output_type": "display_data"
    }
   ],
   "source": [
    "cpb = cpw[2317:2541]\n",
    "cpb.reset_index(drop= True, inplace= True)\n",
    "cpb['Y2018'].plot(figsize=(20,10))"
   ]
  },
  {
   "cell_type": "code",
   "execution_count": 9,
   "metadata": {},
   "outputs": [
    {
     "data": {
      "text/plain": [
       "[Oilcrops, Oil Equivalent     3\n",
       " Vegetables, fresh nes        3\n",
       " Grapefruit (inc. pomelos)    3\n",
       " Bananas                      3\n",
       " Areca nuts                   3\n",
       "                             ..\n",
       " Canary seed                  2\n",
       " Hemp tow waste               2\n",
       " Treenuts, Total              2\n",
       " Cotton lint                  1\n",
       " Cottonseed                   1\n",
       " Name: Item, Length: 78, dtype: int64]"
      ]
     },
     "execution_count": 9,
     "metadata": {},
     "output_type": "execute_result"
    }
   ],
   "source": [
    "cpbl = [cpb['Item'].value_counts()]\n",
    "cpbl\n",
    "\n"
   ]
  },
  {
   "cell_type": "code",
   "execution_count": 10,
   "metadata": {},
   "outputs": [
    {
     "data": {
      "text/plain": [
       "Oilcrops, Oil Equivalent     3\n",
       "Vegetables, fresh nes        3\n",
       "Grapefruit (inc. pomelos)    3\n",
       "Bananas                      3\n",
       "Areca nuts                   3\n",
       "Peas, dry                    3\n",
       "Oilseeds nes                 3\n",
       "Tea                          3\n",
       "Lettuce and chicory          3\n",
       "Sweet potatoes               3\n",
       "Name: Item, dtype: int64"
      ]
     },
     "execution_count": 10,
     "metadata": {},
     "output_type": "execute_result"
    }
   ],
   "source": [
    "cpbf = cpb['Item'].value_counts()\n",
    "cpbf[:10]"
   ]
  },
  {
   "cell_type": "code",
   "execution_count": 11,
   "metadata": {},
   "outputs": [
    {
     "data": {
      "text/plain": [
       "<matplotlib.axes._subplots.AxesSubplot at 0x97cf548>"
      ]
     },
     "execution_count": 11,
     "metadata": {},
     "output_type": "execute_result"
    },
    {
     "data": {
      "image/png": "[encoded data removed]",
      "text/plain": [
       "<Figure size 1440x720 with 1 Axes>"
      ]
     },
     "metadata": {
      "needs_background": "light"
     },
     "output_type": "display_data"
    }
   ],
   "source": [
    "cpbf.plot(figsize=(20,10))"
   ]
  },
  {
   "cell_type": "code",
   "execution_count": 12,
   "metadata": {},
   "outputs": [
    {
     "data": {
      "text/plain": [
       "<matplotlib.axes._subplots.AxesSubplot at 0x980dc08>"
      ]
     },
     "execution_count": 12,
     "metadata": {},
     "output_type": "execute_result"
    },
    {
     "data": {
      "image/png": "[encoded data removed]",
      "text/plain": [
       "<Figure size 1440x720 with 1 Axes>"
      ]
     },
     "metadata": {
      "needs_background": "light"
     },
     "output_type": "display_data"
    }
   ],
   "source": [
    "cpbf[-10:].plot(kind='bar', figsize=(20,10))"
   ]
  },
  {
   "cell_type": "code",
   "execution_count": 13,
   "metadata": {},
   "outputs": [
    {
     "data": {
      "text/html": [
       "<div>\n",
       "<style scoped>\n",
       "    .dataframe tbody tr th:only-of-type {\n",
       "        vertical-align: middle;\n",
       "    }\n",
       "\n",
       "    .dataframe tbody tr th {\n",
       "        vertical-align: top;\n",
       "    }\n",
       "\n",
       "    .dataframe thead th {\n",
       "        text-align: right;\n",
       "    }\n",
       "</style>\n",
       "<table border=\"1\" class=\"dataframe\">\n",
       "  <thead>\n",
       "    <tr style=\"text-align: right;\">\n",
       "      <th></th>\n",
       "      <th>Area Code</th>\n",
       "      <th>Area</th>\n",
       "      <th>Item Code</th>\n",
       "      <th>Item</th>\n",
       "      <th>Element Code</th>\n",
       "      <th>Element</th>\n",
       "      <th>Unit</th>\n",
       "      <th>Y1961</th>\n",
       "      <th>Y1961F</th>\n",
       "      <th>Y1962</th>\n",
       "      <th>...</th>\n",
       "      <th>Y2014</th>\n",
       "      <th>Y2014F</th>\n",
       "      <th>Y2015</th>\n",
       "      <th>Y2015F</th>\n",
       "      <th>Y2016</th>\n",
       "      <th>Y2016F</th>\n",
       "      <th>Y2017</th>\n",
       "      <th>Y2017F</th>\n",
       "      <th>Y2018</th>\n",
       "      <th>Y2018F</th>\n",
       "    </tr>\n",
       "  </thead>\n",
       "  <tbody>\n",
       "    <tr>\n",
       "      <td>93</td>\n",
       "      <td>16</td>\n",
       "      <td>Bangladesh</td>\n",
       "      <td>571</td>\n",
       "      <td>Mangoes, mangosteens, guavas</td>\n",
       "      <td>5312</td>\n",
       "      <td>Area harvested</td>\n",
       "      <td>ha</td>\n",
       "      <td>40000.0</td>\n",
       "      <td>F</td>\n",
       "      <td>44000.0</td>\n",
       "      <td>...</td>\n",
       "      <td>124000.0</td>\n",
       "      <td>*</td>\n",
       "      <td>116297.0</td>\n",
       "      <td>NaN</td>\n",
       "      <td>41390.0</td>\n",
       "      <td>NaN</td>\n",
       "      <td>46323.0</td>\n",
       "      <td>NaN</td>\n",
       "      <td>48947.0</td>\n",
       "      <td>NaN</td>\n",
       "    </tr>\n",
       "    <tr>\n",
       "      <td>94</td>\n",
       "      <td>16</td>\n",
       "      <td>Bangladesh</td>\n",
       "      <td>571</td>\n",
       "      <td>Mangoes, mangosteens, guavas</td>\n",
       "      <td>5419</td>\n",
       "      <td>Yield</td>\n",
       "      <td>hg/ha</td>\n",
       "      <td>127000.0</td>\n",
       "      <td>Fc</td>\n",
       "      <td>114545.0</td>\n",
       "      <td>...</td>\n",
       "      <td>80024.0</td>\n",
       "      <td>Fc</td>\n",
       "      <td>104957.0</td>\n",
       "      <td>Fc</td>\n",
       "      <td>332446.0</td>\n",
       "      <td>Fc</td>\n",
       "      <td>327632.0</td>\n",
       "      <td>Fc</td>\n",
       "      <td>287517.0</td>\n",
       "      <td>Fc</td>\n",
       "    </tr>\n",
       "    <tr>\n",
       "      <td>95</td>\n",
       "      <td>16</td>\n",
       "      <td>Bangladesh</td>\n",
       "      <td>571</td>\n",
       "      <td>Mangoes, mangosteens, guavas</td>\n",
       "      <td>5510</td>\n",
       "      <td>Production</td>\n",
       "      <td>tonnes</td>\n",
       "      <td>508000.0</td>\n",
       "      <td>NaN</td>\n",
       "      <td>504000.0</td>\n",
       "      <td>...</td>\n",
       "      <td>992296.0</td>\n",
       "      <td>NaN</td>\n",
       "      <td>1220616.0</td>\n",
       "      <td>NaN</td>\n",
       "      <td>1375993.0</td>\n",
       "      <td>NaN</td>\n",
       "      <td>1517691.0</td>\n",
       "      <td>NaN</td>\n",
       "      <td>1407308.0</td>\n",
       "      <td>NaN</td>\n",
       "    </tr>\n",
       "  </tbody>\n",
       "</table>\n",
       "<p>3 rows × 123 columns</p>\n",
       "</div>"
      ],
      "text/plain": [
       "    Area Code        Area  Item Code                          Item  \\\n",
       "93         16  Bangladesh        571  Mangoes, mangosteens, guavas   \n",
       "94         16  Bangladesh        571  Mangoes, mangosteens, guavas   \n",
       "95         16  Bangladesh        571  Mangoes, mangosteens, guavas   \n",
       "\n",
       "    Element Code         Element    Unit     Y1961 Y1961F     Y1962  ...  \\\n",
       "93          5312  Area harvested      ha   40000.0      F   44000.0  ...   \n",
       "94          5419           Yield   hg/ha  127000.0     Fc  114545.0  ...   \n",
       "95          5510      Production  tonnes  508000.0    NaN  504000.0  ...   \n",
       "\n",
       "       Y2014  Y2014F      Y2015  Y2015F      Y2016  Y2016F      Y2017  Y2017F  \\\n",
       "93  124000.0       *   116297.0     NaN    41390.0     NaN    46323.0     NaN   \n",
       "94   80024.0      Fc   104957.0      Fc   332446.0      Fc   327632.0      Fc   \n",
       "95  992296.0     NaN  1220616.0     NaN  1375993.0     NaN  1517691.0     NaN   \n",
       "\n",
       "        Y2018  Y2018F  \n",
       "93    48947.0     NaN  \n",
       "94   287517.0      Fc  \n",
       "95  1407308.0     NaN  \n",
       "\n",
       "[3 rows x 123 columns]"
      ]
     },
     "execution_count": 13,
     "metadata": {},
     "output_type": "execute_result"
    }
   ],
   "source": [
    "cpb\n",
    "mangoes_items = cpb[cpb['Item'] == 'Mangoes, mangosteens, guavas']\n",
    "mangoes_items"
   ]
  },
  {
   "cell_type": "code",
   "execution_count": 14,
   "metadata": {},
   "outputs": [
    {
     "data": {
      "text/plain": [
       "<matplotlib.axes._subplots.AxesSubplot at 0x83acd88>"
      ]
     },
     "execution_count": 14,
     "metadata": {},
     "output_type": "execute_result"
    },
    {
     "data": {
      "image/png": "[encoded data removed]",
      "text/plain": [
       "<Figure size 1440x720 with 1 Axes>"
      ]
     },
     "metadata": {
      "needs_background": "light"
     },
     "output_type": "display_data"
    }
   ],
   "source": [
    "cpbf[:].plot(kind= 'bar', figsize = (20,10))"
   ]
  },
  {
   "cell_type": "code",
   "execution_count": 15,
   "metadata": {},
   "outputs": [
    {
     "data": {
      "text/plain": [
       "0      False\n",
       "1      False\n",
       "2      False\n",
       "3      False\n",
       "4      False\n",
       "       ...  \n",
       "219    False\n",
       "220    False\n",
       "221    False\n",
       "222    False\n",
       "223    False\n",
       "Name: Item, Length: 224, dtype: bool"
      ]
     },
     "execution_count": 15,
     "metadata": {},
     "output_type": "execute_result"
    }
   ],
   "source": [
    "cpb['Item'] == 'Coir'"
   ]
  },
  {
   "cell_type": "code",
   "execution_count": 16,
   "metadata": {},
   "outputs": [
    {
     "data": {
      "text/html": [
       "<div>\n",
       "<style scoped>\n",
       "    .dataframe tbody tr th:only-of-type {\n",
       "        vertical-align: middle;\n",
       "    }\n",
       "\n",
       "    .dataframe tbody tr th {\n",
       "        vertical-align: top;\n",
       "    }\n",
       "\n",
       "    .dataframe thead th {\n",
       "        text-align: right;\n",
       "    }\n",
       "</style>\n",
       "<table border=\"1\" class=\"dataframe\">\n",
       "  <thead>\n",
       "    <tr style=\"text-align: right;\">\n",
       "      <th></th>\n",
       "      <th>Area Code</th>\n",
       "      <th>Area</th>\n",
       "      <th>Item Code</th>\n",
       "      <th>Item</th>\n",
       "      <th>Element Code</th>\n",
       "      <th>Element</th>\n",
       "      <th>Unit</th>\n",
       "      <th>Y1961</th>\n",
       "      <th>Y1961F</th>\n",
       "      <th>Y1962</th>\n",
       "      <th>...</th>\n",
       "      <th>Y2014</th>\n",
       "      <th>Y2014F</th>\n",
       "      <th>Y2015</th>\n",
       "      <th>Y2015F</th>\n",
       "      <th>Y2016</th>\n",
       "      <th>Y2016F</th>\n",
       "      <th>Y2017</th>\n",
       "      <th>Y2017F</th>\n",
       "      <th>Y2018</th>\n",
       "      <th>Y2018F</th>\n",
       "    </tr>\n",
       "  </thead>\n",
       "  <tbody>\n",
       "    <tr>\n",
       "      <td>45</td>\n",
       "      <td>16</td>\n",
       "      <td>Bangladesh</td>\n",
       "      <td>813</td>\n",
       "      <td>Coir</td>\n",
       "      <td>5312</td>\n",
       "      <td>Area harvested</td>\n",
       "      <td>ha</td>\n",
       "      <td>NaN</td>\n",
       "      <td>NaN</td>\n",
       "      <td>NaN</td>\n",
       "      <td>...</td>\n",
       "      <td>NaN</td>\n",
       "      <td>M</td>\n",
       "      <td>NaN</td>\n",
       "      <td>NaN</td>\n",
       "      <td>NaN</td>\n",
       "      <td>NaN</td>\n",
       "      <td>NaN</td>\n",
       "      <td>NaN</td>\n",
       "      <td>NaN</td>\n",
       "      <td>NaN</td>\n",
       "    </tr>\n",
       "    <tr>\n",
       "      <td>46</td>\n",
       "      <td>16</td>\n",
       "      <td>Bangladesh</td>\n",
       "      <td>813</td>\n",
       "      <td>Coir</td>\n",
       "      <td>5510</td>\n",
       "      <td>Production</td>\n",
       "      <td>tonnes</td>\n",
       "      <td>6368.0</td>\n",
       "      <td>*</td>\n",
       "      <td>6628.0</td>\n",
       "      <td>...</td>\n",
       "      <td>10300.0</td>\n",
       "      <td>F</td>\n",
       "      <td>10331.0</td>\n",
       "      <td>Im</td>\n",
       "      <td>10440.0</td>\n",
       "      <td>Im</td>\n",
       "      <td>10366.0</td>\n",
       "      <td>Im</td>\n",
       "      <td>10321.0</td>\n",
       "      <td>Im</td>\n",
       "    </tr>\n",
       "    <tr>\n",
       "      <td>93</td>\n",
       "      <td>16</td>\n",
       "      <td>Bangladesh</td>\n",
       "      <td>571</td>\n",
       "      <td>Mangoes, mangosteens, guavas</td>\n",
       "      <td>5312</td>\n",
       "      <td>Area harvested</td>\n",
       "      <td>ha</td>\n",
       "      <td>40000.0</td>\n",
       "      <td>F</td>\n",
       "      <td>44000.0</td>\n",
       "      <td>...</td>\n",
       "      <td>124000.0</td>\n",
       "      <td>*</td>\n",
       "      <td>116297.0</td>\n",
       "      <td>NaN</td>\n",
       "      <td>41390.0</td>\n",
       "      <td>NaN</td>\n",
       "      <td>46323.0</td>\n",
       "      <td>NaN</td>\n",
       "      <td>48947.0</td>\n",
       "      <td>NaN</td>\n",
       "    </tr>\n",
       "  </tbody>\n",
       "</table>\n",
       "<p>3 rows × 123 columns</p>\n",
       "</div>"
      ],
      "text/plain": [
       "    Area Code        Area  Item Code                          Item  \\\n",
       "45         16  Bangladesh        813                          Coir   \n",
       "46         16  Bangladesh        813                          Coir   \n",
       "93         16  Bangladesh        571  Mangoes, mangosteens, guavas   \n",
       "\n",
       "    Element Code         Element    Unit    Y1961 Y1961F    Y1962  ...  \\\n",
       "45          5312  Area harvested      ha      NaN    NaN      NaN  ...   \n",
       "46          5510      Production  tonnes   6368.0      *   6628.0  ...   \n",
       "93          5312  Area harvested      ha  40000.0      F  44000.0  ...   \n",
       "\n",
       "       Y2014  Y2014F     Y2015  Y2015F    Y2016  Y2016F    Y2017  Y2017F  \\\n",
       "45       NaN       M       NaN     NaN      NaN     NaN      NaN     NaN   \n",
       "46   10300.0       F   10331.0      Im  10440.0      Im  10366.0      Im   \n",
       "93  124000.0       *  116297.0     NaN  41390.0     NaN  46323.0     NaN   \n",
       "\n",
       "      Y2018  Y2018F  \n",
       "45      NaN     NaN  \n",
       "46  10321.0      Im  \n",
       "93  48947.0     NaN  \n",
       "\n",
       "[3 rows x 123 columns]"
      ]
     },
     "execution_count": 16,
     "metadata": {},
     "output_type": "execute_result"
    }
   ],
   "source": [
    "have_coir = cpb['Item'] == 'Coir'\n",
    "have_mangoes_guavas = cpb['Item'] == 'Mangoes, mangosteens, guavas'\n",
    "cpb[have_coir | have_mangoes_guavas] [:3]"
   ]
  },
  {
   "cell_type": "code",
   "execution_count": 17,
   "metadata": {},
   "outputs": [
    {
     "data": {
      "text/html": [
       "<div>\n",
       "<style scoped>\n",
       "    .dataframe tbody tr th:only-of-type {\n",
       "        vertical-align: middle;\n",
       "    }\n",
       "\n",
       "    .dataframe tbody tr th {\n",
       "        vertical-align: top;\n",
       "    }\n",
       "\n",
       "    .dataframe thead th {\n",
       "        text-align: right;\n",
       "    }\n",
       "</style>\n",
       "<table border=\"1\" class=\"dataframe\">\n",
       "  <thead>\n",
       "    <tr style=\"text-align: right;\">\n",
       "      <th></th>\n",
       "      <th>Area</th>\n",
       "      <th>Item</th>\n",
       "      <th>Element</th>\n",
       "      <th>Unit</th>\n",
       "      <th>Y2018</th>\n",
       "    </tr>\n",
       "  </thead>\n",
       "  <tbody>\n",
       "    <tr>\n",
       "      <td>45</td>\n",
       "      <td>Bangladesh</td>\n",
       "      <td>Coir</td>\n",
       "      <td>Area harvested</td>\n",
       "      <td>ha</td>\n",
       "      <td>NaN</td>\n",
       "    </tr>\n",
       "    <tr>\n",
       "      <td>46</td>\n",
       "      <td>Bangladesh</td>\n",
       "      <td>Coir</td>\n",
       "      <td>Production</td>\n",
       "      <td>tonnes</td>\n",
       "      <td>10321.0</td>\n",
       "    </tr>\n",
       "    <tr>\n",
       "      <td>93</td>\n",
       "      <td>Bangladesh</td>\n",
       "      <td>Mangoes, mangosteens, guavas</td>\n",
       "      <td>Area harvested</td>\n",
       "      <td>ha</td>\n",
       "      <td>48947.0</td>\n",
       "    </tr>\n",
       "  </tbody>\n",
       "</table>\n",
       "</div>"
      ],
      "text/plain": [
       "          Area                          Item         Element    Unit    Y2018\n",
       "45  Bangladesh                          Coir  Area harvested      ha      NaN\n",
       "46  Bangladesh                          Coir      Production  tonnes  10321.0\n",
       "93  Bangladesh  Mangoes, mangosteens, guavas  Area harvested      ha  48947.0"
      ]
     },
     "execution_count": 17,
     "metadata": {},
     "output_type": "execute_result"
    }
   ],
   "source": [
    "cpb[have_coir | have_mangoes_guavas][:3][['Area', 'Item','Element','Unit', 'Y2018']]"
   ]
  },
  {
   "cell_type": "code",
   "execution_count": 18,
   "metadata": {},
   "outputs": [
    {
     "data": {
      "text/html": [
       "<div>\n",
       "<style scoped>\n",
       "    .dataframe tbody tr th:only-of-type {\n",
       "        vertical-align: middle;\n",
       "    }\n",
       "\n",
       "    .dataframe tbody tr th {\n",
       "        vertical-align: top;\n",
       "    }\n",
       "\n",
       "    .dataframe thead th {\n",
       "        text-align: right;\n",
       "    }\n",
       "</style>\n",
       "<table border=\"1\" class=\"dataframe\">\n",
       "  <thead>\n",
       "    <tr style=\"text-align: right;\">\n",
       "      <th></th>\n",
       "      <th>Area Code</th>\n",
       "      <th>Area</th>\n",
       "      <th>Item Code</th>\n",
       "      <th>Item</th>\n",
       "      <th>Element Code</th>\n",
       "      <th>Element</th>\n",
       "      <th>Unit</th>\n",
       "      <th>Y1961</th>\n",
       "      <th>Y1961F</th>\n",
       "      <th>Y1962</th>\n",
       "      <th>...</th>\n",
       "      <th>Y2014</th>\n",
       "      <th>Y2014F</th>\n",
       "      <th>Y2015</th>\n",
       "      <th>Y2015F</th>\n",
       "      <th>Y2016</th>\n",
       "      <th>Y2016F</th>\n",
       "      <th>Y2017</th>\n",
       "      <th>Y2017F</th>\n",
       "      <th>Y2018</th>\n",
       "      <th>Y2018F</th>\n",
       "    </tr>\n",
       "  </thead>\n",
       "  <tbody>\n",
       "    <tr>\n",
       "      <td>0</td>\n",
       "      <td>16</td>\n",
       "      <td>Bangladesh</td>\n",
       "      <td>711</td>\n",
       "      <td>Anise, badian, fennel, coriander</td>\n",
       "      <td>5312</td>\n",
       "      <td>Area harvested</td>\n",
       "      <td>ha</td>\n",
       "      <td>NaN</td>\n",
       "      <td>NaN</td>\n",
       "      <td>NaN</td>\n",
       "      <td>...</td>\n",
       "      <td>NaN</td>\n",
       "      <td>M</td>\n",
       "      <td>NaN</td>\n",
       "      <td>M</td>\n",
       "      <td>NaN</td>\n",
       "      <td>M</td>\n",
       "      <td>NaN</td>\n",
       "      <td>M</td>\n",
       "      <td>NaN</td>\n",
       "      <td>M</td>\n",
       "    </tr>\n",
       "    <tr>\n",
       "      <td>1</td>\n",
       "      <td>16</td>\n",
       "      <td>Bangladesh</td>\n",
       "      <td>711</td>\n",
       "      <td>Anise, badian, fennel, coriander</td>\n",
       "      <td>5510</td>\n",
       "      <td>Production</td>\n",
       "      <td>tonnes</td>\n",
       "      <td>600.0</td>\n",
       "      <td>F</td>\n",
       "      <td>300.0</td>\n",
       "      <td>...</td>\n",
       "      <td>NaN</td>\n",
       "      <td>M</td>\n",
       "      <td>NaN</td>\n",
       "      <td>M</td>\n",
       "      <td>NaN</td>\n",
       "      <td>M</td>\n",
       "      <td>NaN</td>\n",
       "      <td>M</td>\n",
       "      <td>NaN</td>\n",
       "      <td>M</td>\n",
       "    </tr>\n",
       "    <tr>\n",
       "      <td>2</td>\n",
       "      <td>16</td>\n",
       "      <td>Bangladesh</td>\n",
       "      <td>226</td>\n",
       "      <td>Areca nuts</td>\n",
       "      <td>5312</td>\n",
       "      <td>Area harvested</td>\n",
       "      <td>ha</td>\n",
       "      <td>82600.0</td>\n",
       "      <td>NaN</td>\n",
       "      <td>82600.0</td>\n",
       "      <td>...</td>\n",
       "      <td>230670.0</td>\n",
       "      <td>NaN</td>\n",
       "      <td>238760.0</td>\n",
       "      <td>NaN</td>\n",
       "      <td>238760.0</td>\n",
       "      <td>NaN</td>\n",
       "      <td>222570.0</td>\n",
       "      <td>NaN</td>\n",
       "      <td>228371.0</td>\n",
       "      <td>Im</td>\n",
       "    </tr>\n",
       "    <tr>\n",
       "      <td>3</td>\n",
       "      <td>16</td>\n",
       "      <td>Bangladesh</td>\n",
       "      <td>226</td>\n",
       "      <td>Areca nuts</td>\n",
       "      <td>5419</td>\n",
       "      <td>Yield</td>\n",
       "      <td>hg/ha</td>\n",
       "      <td>7627.0</td>\n",
       "      <td>Fc</td>\n",
       "      <td>6765.0</td>\n",
       "      <td>...</td>\n",
       "      <td>8150.0</td>\n",
       "      <td>Fc</td>\n",
       "      <td>9131.0</td>\n",
       "      <td>Fc</td>\n",
       "      <td>8963.0</td>\n",
       "      <td>Fc</td>\n",
       "      <td>9615.0</td>\n",
       "      <td>Fc</td>\n",
       "      <td>6001.0</td>\n",
       "      <td>Fc</td>\n",
       "    </tr>\n",
       "    <tr>\n",
       "      <td>4</td>\n",
       "      <td>16</td>\n",
       "      <td>Bangladesh</td>\n",
       "      <td>226</td>\n",
       "      <td>Areca nuts</td>\n",
       "      <td>5510</td>\n",
       "      <td>Production</td>\n",
       "      <td>tonnes</td>\n",
       "      <td>62995.0</td>\n",
       "      <td>NaN</td>\n",
       "      <td>55882.0</td>\n",
       "      <td>...</td>\n",
       "      <td>188000.0</td>\n",
       "      <td>NaN</td>\n",
       "      <td>218000.0</td>\n",
       "      <td>NaN</td>\n",
       "      <td>214000.0</td>\n",
       "      <td>NaN</td>\n",
       "      <td>214000.0</td>\n",
       "      <td>NaN</td>\n",
       "      <td>137043.0</td>\n",
       "      <td>Im</td>\n",
       "    </tr>\n",
       "    <tr>\n",
       "      <td>...</td>\n",
       "      <td>...</td>\n",
       "      <td>...</td>\n",
       "      <td>...</td>\n",
       "      <td>...</td>\n",
       "      <td>...</td>\n",
       "      <td>...</td>\n",
       "      <td>...</td>\n",
       "      <td>...</td>\n",
       "      <td>...</td>\n",
       "      <td>...</td>\n",
       "      <td>...</td>\n",
       "      <td>...</td>\n",
       "      <td>...</td>\n",
       "      <td>...</td>\n",
       "      <td>...</td>\n",
       "      <td>...</td>\n",
       "      <td>...</td>\n",
       "      <td>...</td>\n",
       "      <td>...</td>\n",
       "      <td>...</td>\n",
       "      <td>...</td>\n",
       "    </tr>\n",
       "    <tr>\n",
       "      <td>219</td>\n",
       "      <td>16</td>\n",
       "      <td>Bangladesh</td>\n",
       "      <td>1729</td>\n",
       "      <td>Treenuts, Total</td>\n",
       "      <td>5312</td>\n",
       "      <td>Area harvested</td>\n",
       "      <td>ha</td>\n",
       "      <td>NaN</td>\n",
       "      <td>NaN</td>\n",
       "      <td>NaN</td>\n",
       "      <td>...</td>\n",
       "      <td>NaN</td>\n",
       "      <td>A</td>\n",
       "      <td>NaN</td>\n",
       "      <td>A</td>\n",
       "      <td>NaN</td>\n",
       "      <td>A</td>\n",
       "      <td>NaN</td>\n",
       "      <td>A</td>\n",
       "      <td>NaN</td>\n",
       "      <td>A</td>\n",
       "    </tr>\n",
       "    <tr>\n",
       "      <td>220</td>\n",
       "      <td>16</td>\n",
       "      <td>Bangladesh</td>\n",
       "      <td>1729</td>\n",
       "      <td>Treenuts, Total</td>\n",
       "      <td>5510</td>\n",
       "      <td>Production</td>\n",
       "      <td>tonnes</td>\n",
       "      <td>NaN</td>\n",
       "      <td>NaN</td>\n",
       "      <td>NaN</td>\n",
       "      <td>...</td>\n",
       "      <td>NaN</td>\n",
       "      <td>A</td>\n",
       "      <td>NaN</td>\n",
       "      <td>A</td>\n",
       "      <td>NaN</td>\n",
       "      <td>A</td>\n",
       "      <td>NaN</td>\n",
       "      <td>A</td>\n",
       "      <td>NaN</td>\n",
       "      <td>A</td>\n",
       "    </tr>\n",
       "    <tr>\n",
       "      <td>221</td>\n",
       "      <td>16</td>\n",
       "      <td>Bangladesh</td>\n",
       "      <td>1735</td>\n",
       "      <td>Vegetables Primary</td>\n",
       "      <td>5312</td>\n",
       "      <td>Area harvested</td>\n",
       "      <td>ha</td>\n",
       "      <td>157150.0</td>\n",
       "      <td>A</td>\n",
       "      <td>150350.0</td>\n",
       "      <td>...</td>\n",
       "      <td>534551.0</td>\n",
       "      <td>A</td>\n",
       "      <td>566771.0</td>\n",
       "      <td>A</td>\n",
       "      <td>572895.0</td>\n",
       "      <td>A</td>\n",
       "      <td>587653.0</td>\n",
       "      <td>A</td>\n",
       "      <td>586368.0</td>\n",
       "      <td>A</td>\n",
       "    </tr>\n",
       "    <tr>\n",
       "      <td>222</td>\n",
       "      <td>16</td>\n",
       "      <td>Bangladesh</td>\n",
       "      <td>1735</td>\n",
       "      <td>Vegetables Primary</td>\n",
       "      <td>5419</td>\n",
       "      <td>Yield</td>\n",
       "      <td>hg/ha</td>\n",
       "      <td>51320.0</td>\n",
       "      <td>Fc</td>\n",
       "      <td>51826.0</td>\n",
       "      <td>...</td>\n",
       "      <td>82181.0</td>\n",
       "      <td>Fc</td>\n",
       "      <td>89243.0</td>\n",
       "      <td>Fc</td>\n",
       "      <td>90840.0</td>\n",
       "      <td>Fc</td>\n",
       "      <td>94786.0</td>\n",
       "      <td>Fc</td>\n",
       "      <td>93107.0</td>\n",
       "      <td>Fc</td>\n",
       "    </tr>\n",
       "    <tr>\n",
       "      <td>223</td>\n",
       "      <td>16</td>\n",
       "      <td>Bangladesh</td>\n",
       "      <td>1735</td>\n",
       "      <td>Vegetables Primary</td>\n",
       "      <td>5510</td>\n",
       "      <td>Production</td>\n",
       "      <td>tonnes</td>\n",
       "      <td>806500.0</td>\n",
       "      <td>A</td>\n",
       "      <td>779200.0</td>\n",
       "      <td>...</td>\n",
       "      <td>4393000.0</td>\n",
       "      <td>A</td>\n",
       "      <td>5058058.0</td>\n",
       "      <td>A</td>\n",
       "      <td>5204172.0</td>\n",
       "      <td>A</td>\n",
       "      <td>5570139.0</td>\n",
       "      <td>A</td>\n",
       "      <td>5459502.0</td>\n",
       "      <td>A</td>\n",
       "    </tr>\n",
       "  </tbody>\n",
       "</table>\n",
       "<p>224 rows × 123 columns</p>\n",
       "</div>"
      ],
      "text/plain": [
       "     Area Code        Area  Item Code                              Item  \\\n",
       "0           16  Bangladesh        711  Anise, badian, fennel, coriander   \n",
       "1           16  Bangladesh        711  Anise, badian, fennel, coriander   \n",
       "2           16  Bangladesh        226                        Areca nuts   \n",
       "3           16  Bangladesh        226                        Areca nuts   \n",
       "4           16  Bangladesh        226                        Areca nuts   \n",
       "..         ...         ...        ...                               ...   \n",
       "219         16  Bangladesh       1729                   Treenuts, Total   \n",
       "220         16  Bangladesh       1729                   Treenuts, Total   \n",
       "221         16  Bangladesh       1735                Vegetables Primary   \n",
       "222         16  Bangladesh       1735                Vegetables Primary   \n",
       "223         16  Bangladesh       1735                Vegetables Primary   \n",
       "\n",
       "     Element Code         Element    Unit     Y1961 Y1961F     Y1962  ...  \\\n",
       "0            5312  Area harvested      ha       NaN    NaN       NaN  ...   \n",
       "1            5510      Production  tonnes     600.0      F     300.0  ...   \n",
       "2            5312  Area harvested      ha   82600.0    NaN   82600.0  ...   \n",
       "3            5419           Yield   hg/ha    7627.0     Fc    6765.0  ...   \n",
       "4            5510      Production  tonnes   62995.0    NaN   55882.0  ...   \n",
       "..            ...             ...     ...       ...    ...       ...  ...   \n",
       "219          5312  Area harvested      ha       NaN    NaN       NaN  ...   \n",
       "220          5510      Production  tonnes       NaN    NaN       NaN  ...   \n",
       "221          5312  Area harvested      ha  157150.0      A  150350.0  ...   \n",
       "222          5419           Yield   hg/ha   51320.0     Fc   51826.0  ...   \n",
       "223          5510      Production  tonnes  806500.0      A  779200.0  ...   \n",
       "\n",
       "         Y2014  Y2014F      Y2015  Y2015F      Y2016  Y2016F      Y2017  \\\n",
       "0          NaN       M        NaN       M        NaN       M        NaN   \n",
       "1          NaN       M        NaN       M        NaN       M        NaN   \n",
       "2     230670.0     NaN   238760.0     NaN   238760.0     NaN   222570.0   \n",
       "3       8150.0      Fc     9131.0      Fc     8963.0      Fc     9615.0   \n",
       "4     188000.0     NaN   218000.0     NaN   214000.0     NaN   214000.0   \n",
       "..         ...     ...        ...     ...        ...     ...        ...   \n",
       "219        NaN       A        NaN       A        NaN       A        NaN   \n",
       "220        NaN       A        NaN       A        NaN       A        NaN   \n",
       "221   534551.0       A   566771.0       A   572895.0       A   587653.0   \n",
       "222    82181.0      Fc    89243.0      Fc    90840.0      Fc    94786.0   \n",
       "223  4393000.0       A  5058058.0       A  5204172.0       A  5570139.0   \n",
       "\n",
       "     Y2017F      Y2018  Y2018F  \n",
       "0         M        NaN       M  \n",
       "1         M        NaN       M  \n",
       "2       NaN   228371.0      Im  \n",
       "3        Fc     6001.0      Fc  \n",
       "4       NaN   137043.0      Im  \n",
       "..      ...        ...     ...  \n",
       "219       A        NaN       A  \n",
       "220       A        NaN       A  \n",
       "221       A   586368.0       A  \n",
       "222      Fc    93107.0      Fc  \n",
       "223       A  5459502.0       A  \n",
       "\n",
       "[224 rows x 123 columns]"
      ]
     },
     "execution_count": 18,
     "metadata": {},
     "output_type": "execute_result"
    }
   ],
   "source": [
    "cpb"
   ]
  },
  {
   "cell_type": "code",
   "execution_count": 19,
   "metadata": {},
   "outputs": [
    {
     "data": {
      "text/html": [
       "<div>\n",
       "<style scoped>\n",
       "    .dataframe tbody tr th:only-of-type {\n",
       "        vertical-align: middle;\n",
       "    }\n",
       "\n",
       "    .dataframe tbody tr th {\n",
       "        vertical-align: top;\n",
       "    }\n",
       "\n",
       "    .dataframe thead th {\n",
       "        text-align: right;\n",
       "    }\n",
       "</style>\n",
       "<table border=\"1\" class=\"dataframe\">\n",
       "  <thead>\n",
       "    <tr style=\"text-align: right;\">\n",
       "      <th></th>\n",
       "      <th>Area</th>\n",
       "      <th>Item</th>\n",
       "      <th>Unit</th>\n",
       "      <th>Element</th>\n",
       "      <th>Y2018</th>\n",
       "    </tr>\n",
       "  </thead>\n",
       "  <tbody>\n",
       "    <tr>\n",
       "      <td>2</td>\n",
       "      <td>Bangladesh</td>\n",
       "      <td>Areca nuts</td>\n",
       "      <td>ha</td>\n",
       "      <td>Area harvested</td>\n",
       "      <td>228371.0</td>\n",
       "    </tr>\n",
       "    <tr>\n",
       "      <td>3</td>\n",
       "      <td>Bangladesh</td>\n",
       "      <td>Areca nuts</td>\n",
       "      <td>hg/ha</td>\n",
       "      <td>Yield</td>\n",
       "      <td>6001.0</td>\n",
       "    </tr>\n",
       "    <tr>\n",
       "      <td>4</td>\n",
       "      <td>Bangladesh</td>\n",
       "      <td>Areca nuts</td>\n",
       "      <td>tonnes</td>\n",
       "      <td>Production</td>\n",
       "      <td>137043.0</td>\n",
       "    </tr>\n",
       "    <tr>\n",
       "      <td>221</td>\n",
       "      <td>Bangladesh</td>\n",
       "      <td>Vegetables Primary</td>\n",
       "      <td>ha</td>\n",
       "      <td>Area harvested</td>\n",
       "      <td>586368.0</td>\n",
       "    </tr>\n",
       "  </tbody>\n",
       "</table>\n",
       "</div>"
      ],
      "text/plain": [
       "           Area                Item    Unit         Element     Y2018\n",
       "2    Bangladesh          Areca nuts      ha  Area harvested  228371.0\n",
       "3    Bangladesh          Areca nuts   hg/ha           Yield    6001.0\n",
       "4    Bangladesh          Areca nuts  tonnes      Production  137043.0\n",
       "221  Bangladesh  Vegetables Primary      ha  Area harvested  586368.0"
      ]
     },
     "execution_count": 19,
     "metadata": {},
     "output_type": "execute_result"
    }
   ],
   "source": [
    "areca_nuts = cpb['Item'] == 'Areca nuts'\n",
    "veg_primary = cpb['Item'] == 'Vegetables Primary' \n",
    "cpb[areca_nuts | veg_primary] [['Area','Item','Unit','Element','Y2018']][:4]"
   ]
  },
  {
   "cell_type": "code",
   "execution_count": 20,
   "metadata": {},
   "outputs": [
    {
     "data": {
      "text/plain": [
       "array([1, 3, 5], dtype=int64)"
      ]
     },
     "execution_count": 20,
     "metadata": {},
     "output_type": "execute_result"
    }
   ],
   "source": [
    "pd.Series([1,3,5]).values"
   ]
  },
  {
   "cell_type": "code",
   "execution_count": 21,
   "metadata": {},
   "outputs": [
    {
     "data": {
      "text/plain": [
       "array([ True, False,  True])"
      ]
     },
     "execution_count": 21,
     "metadata": {},
     "output_type": "execute_result"
    }
   ],
   "source": [
    "arr= np.array([1,3,5])\n",
    "arr != 3"
   ]
  },
  {
   "cell_type": "code",
   "execution_count": 22,
   "metadata": {},
   "outputs": [
    {
     "data": {
      "text/plain": [
       "array([1, 5])"
      ]
     },
     "execution_count": 22,
     "metadata": {},
     "output_type": "execute_result"
    }
   ],
   "source": [
    "arr[arr!= 3]"
   ]
  },
  {
   "cell_type": "code",
   "execution_count": 23,
   "metadata": {},
   "outputs": [
    {
     "data": {
      "text/plain": [
       "True    1.0\n",
       "Name: Element, dtype: float64"
      ]
     },
     "execution_count": 23,
     "metadata": {},
     "output_type": "execute_result"
    }
   ],
   "source": [
    "cpw_element = (cpw['Element'] == 'Area harvested') | (cpw['Element'] == 'Yield') | (cpw['Element'] == 'Production')\n",
    "cpb_element = (cpw['Element'] == 'Area harvested') | (cpw['Element'] == 'Yield') | (cpw['Element'] == 'Production')\n",
    "counted = cpw_element.value_counts()\n",
    "also_counted = cpb_element.value_counts()\n",
    "counted / also_counted"
   ]
  },
  {
   "cell_type": "code",
   "execution_count": 24,
   "metadata": {},
   "outputs": [
    {
     "data": {
      "text/plain": [
       "<matplotlib.axes._subplots.AxesSubplot at 0x6e17c08>"
      ]
     },
     "execution_count": 24,
     "metadata": {},
     "output_type": "execute_result"
    },
    {
     "data": {
      "image/png": "[encoded data removed]",
      "text/plain": [
       "<Figure size 1440x720 with 1 Axes>"
      ]
     },
     "metadata": {
      "needs_background": "light"
     },
     "output_type": "display_data"
    }
   ],
   "source": [
    "plotting_cpb = pd.read_csv('crops_production.csv', index_col = 'Element')\n",
    "plotting_cpb['Y2018'][:10].plot(figsize = (20,10))"
   ]
  },
  {
   "cell_type": "code",
   "execution_count": 25,
   "metadata": {},
   "outputs": [
    {
     "data": {
      "text/plain": [
       "2850528"
      ]
     },
     "execution_count": 25,
     "metadata": {},
     "output_type": "execute_result"
    }
   ],
   "source": []
  },
  {
   "cell_type": "code",
   "execution_count": null,
   "metadata": {},
   "outputs": [],
   "source": []
  }
 ],
 "metadata": {
  "kernelspec": {
   "display_name": "Python 3",
   "language": "python",
   "name": "python3"
  },
  "language_info": {
   "codemirror_mode": {
    "name": "ipython",
    "version": 3
   },
   "file_extension": ".py",
   "mimetype": "text/x-python",
   "name": "python",
   "nbconvert_exporter": "python",
   "pygments_lexer": "ipython3",
   "version": "3.7.4"
  }
 },
 "nbformat": 4,
 "nbformat_minor": 4
}
